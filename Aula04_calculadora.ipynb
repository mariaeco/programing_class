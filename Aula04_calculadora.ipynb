{
 "cells": [
  {
   "cell_type": "markdown",
   "id": "122515dc",
   "metadata": {},
   "source": [
    "## TABUADA"
   ]
  },
  {
   "cell_type": "code",
   "execution_count": 19,
   "id": "63b0c2a4",
   "metadata": {},
   "outputs": [
    {
     "name": "stdout",
     "output_type": "stream",
     "text": [
      "Multiplicação | Divisão\n",
      "10 * 1 =  10 | 10 / 1 =  10.0\n",
      "10 * 2 =  20 | 10 / 2 =  5.0\n",
      "10 * 3 =  30 | 10 / 3 =  3.33\n",
      "10 * 4 =  40 | 10 / 4 =  2.5\n",
      "10 * 5 =  50 | 10 / 5 =  2.0\n",
      "10 * 6 =  60 | 10 / 6 =  1.67\n",
      "10 * 7 =  70 | 10 / 7 =  1.43\n",
      "10 * 8 =  80 | 10 / 8 =  1.25\n",
      "10 * 9 =  90 | 10 / 9 =  1.11\n",
      "10 * 10 =  100 | 10 / 10 =  1.0\n"
     ]
    }
   ],
   "source": [
    "import numpy as np\n",
    "\n",
    "\n",
    "numero = int(input(\"Digite um número INTEIRO:\",))\n",
    "\n",
    "\n",
    "print(\"Multiplicação | Divisão\")\n",
    "for elemento in range(1, 11): #Pq 11? pq em python sempre n-1\n",
    "    print(f\"{numero} * {elemento} = \", numero*elemento,  '|', \n",
    "          f\"{numero} / {elemento} = \", np.round(numero/elemento,2))\n",
    "    \n",
    "\n"
   ]
  }
 ],
 "metadata": {
  "kernelspec": {
   "display_name": "venv",
   "language": "python",
   "name": "python3"
  },
  "language_info": {
   "codemirror_mode": {
    "name": "ipython",
    "version": 3
   },
   "file_extension": ".py",
   "mimetype": "text/x-python",
   "name": "python",
   "nbconvert_exporter": "python",
   "pygments_lexer": "ipython3",
   "version": "3.10.11"
  }
 },
 "nbformat": 4,
 "nbformat_minor": 5
}
