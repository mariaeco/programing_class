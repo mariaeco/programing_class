{
  "nbformat": 4,
  "nbformat_minor": 0,
  "metadata": {
    "colab": {
      "provenance": []
    },
    "kernelspec": {
      "name": "python3",
      "display_name": "Python 3"
    },
    "language_info": {
      "name": "python"
    }
  },
  "cells": [
    {
      "cell_type": "markdown",
      "source": [
        "# AULA 1\n",
        "## Aula dia  14 de maio de 2025\n",
        "\n",
        "* Tipos de Variáveis\n",
        "* Atribuições\n",
        "* Operadores lógicos (+,-,*,/,//,%, **)\n",
        "* Funções"
      ],
      "metadata": {
        "id": "TcwKrvrktFz7"
      }
    },
    {
      "cell_type": "markdown",
      "source": [
        "## TIPO DE VARIÁVEIS\n",
        "\n",
        "\n",
        "INTEIRA - (1, 2, 3, 10, 1000) - IDADE, QUANTIDADES\n",
        "\n",
        "FLOAT - CONTÍNUO (1.3, 2.5. 10000.4) - ALTURA, PESO\n",
        "\n",
        "BINÁRIAS - BOOLEANAS - 0 OU 1 (SIM OU NÃO)\n",
        "\n",
        "CATEGÓRICAS - STRING E CHAR -\n",
        "ESCOLARIDADE: ENSINO FUNDAMENTAL, ENSINO MÉDIO, SUPERIOR (ESCOLARIDADE É ORDINAL - PODEMOS TRANSFORMAR EM NÚMERO)\n",
        "COR DA PELE: BRANCO, AMARELO, PARDO, PRETO  (NÃO É UMA CATEGORIA ORDINAL)"
      ],
      "metadata": {
        "id": "P_wA8LcuuTlH"
      }
    },
    {
      "cell_type": "code",
      "execution_count": 3,
      "metadata": {
        "colab": {
          "base_uri": "https://localhost:8080/"
        },
        "id": "qCIY_nYbsum4",
        "outputId": "c0943ab8-6c94-4131-e006-5cb351d62faf"
      },
      "outputs": [
        {
          "output_type": "execute_result",
          "data": {
            "text/plain": [
              "2"
            ]
          },
          "metadata": {},
          "execution_count": 3
        }
      ],
      "source": [
        "1+1"
      ]
    },
    {
      "cell_type": "code",
      "source": [
        "1/3 #DIVISÃO"
      ],
      "metadata": {
        "colab": {
          "base_uri": "https://localhost:8080/"
        },
        "id": "WVuGUA44xGHX",
        "outputId": "04ccd84e-8164-4feb-f93d-8be6cd82f2df"
      },
      "execution_count": 4,
      "outputs": [
        {
          "output_type": "execute_result",
          "data": {
            "text/plain": [
              "0.3333333333333333"
            ]
          },
          "metadata": {},
          "execution_count": 4
        }
      ]
    },
    {
      "cell_type": "code",
      "source": [
        "3*6"
      ],
      "metadata": {
        "colab": {
          "base_uri": "https://localhost:8080/"
        },
        "id": "DLiD0_sCxbWK",
        "outputId": "462117ac-f538-4e62-81ed-6cc42d27164a"
      },
      "execution_count": 5,
      "outputs": [
        {
          "output_type": "execute_result",
          "data": {
            "text/plain": [
              "18"
            ]
          },
          "metadata": {},
          "execution_count": 5
        }
      ]
    },
    {
      "cell_type": "code",
      "source": [
        "5/2"
      ],
      "metadata": {
        "colab": {
          "base_uri": "https://localhost:8080/"
        },
        "id": "8hFIlskUyupk",
        "outputId": "48582518-c3ab-4aa0-d8c8-27a9ef8515d5"
      },
      "execution_count": 8,
      "outputs": [
        {
          "output_type": "execute_result",
          "data": {
            "text/plain": [
              "2.5"
            ]
          },
          "metadata": {},
          "execution_count": 8
        }
      ]
    },
    {
      "cell_type": "code",
      "source": [
        "5//2  # DIVISÃO POR INTEIRO"
      ],
      "metadata": {
        "colab": {
          "base_uri": "https://localhost:8080/"
        },
        "id": "-ZThm4WjxgsI",
        "outputId": "ff2c0c90-c5c0-43d5-f0f6-a47da997c1e3"
      },
      "execution_count": 7,
      "outputs": [
        {
          "output_type": "execute_result",
          "data": {
            "text/plain": [
              "2"
            ]
          },
          "metadata": {},
          "execution_count": 7
        }
      ]
    },
    {
      "cell_type": "code",
      "source": [
        "5%2 #RESTO DA DIVISÃO"
      ],
      "metadata": {
        "colab": {
          "base_uri": "https://localhost:8080/"
        },
        "id": "6DnqsEfkzHkj",
        "outputId": "2737fb90-1f80-4049-9168-f607c1602ef8"
      },
      "execution_count": 9,
      "outputs": [
        {
          "output_type": "execute_result",
          "data": {
            "text/plain": [
              "1"
            ]
          },
          "metadata": {},
          "execution_count": 9
        }
      ]
    },
    {
      "cell_type": "code",
      "source": [
        "2**3"
      ],
      "metadata": {
        "colab": {
          "base_uri": "https://localhost:8080/"
        },
        "id": "bfVJdn66zpV-",
        "outputId": "6c9879e7-9a61-41c4-9bac-30d259571a1e"
      },
      "execution_count": 10,
      "outputs": [
        {
          "output_type": "execute_result",
          "data": {
            "text/plain": [
              "8"
            ]
          },
          "metadata": {},
          "execution_count": 10
        }
      ]
    },
    {
      "cell_type": "markdown",
      "source": [
        "ATRIBUIÇÃO DE VARIÁVEIS ----------------------------------"
      ],
      "metadata": {
        "id": "0npfLdS9z8rN"
      }
    },
    {
      "cell_type": "code",
      "source": [
        "x = 3 # trÊs está salvo na variável x"
      ],
      "metadata": {
        "id": "qE0vuUyV0CSA"
      },
      "execution_count": 11,
      "outputs": []
    },
    {
      "cell_type": "code",
      "source": [
        "y = 2"
      ],
      "metadata": {
        "id": "kBlpRJFG0lgp"
      },
      "execution_count": 12,
      "outputs": []
    },
    {
      "cell_type": "code",
      "source": [
        "y**x"
      ],
      "metadata": {
        "colab": {
          "base_uri": "https://localhost:8080/"
        },
        "id": "eCivMq3q0q02",
        "outputId": "2c041925-cf2d-4e21-ec15-3e5cb3932811"
      },
      "execution_count": 13,
      "outputs": [
        {
          "output_type": "execute_result",
          "data": {
            "text/plain": [
              "8"
            ]
          },
          "metadata": {},
          "execution_count": 13
        }
      ]
    },
    {
      "cell_type": "code",
      "source": [
        "aluno = 'LENILDO' #STRING --> NOME, FRASE"
      ],
      "metadata": {
        "id": "azNuPfUK0zN7"
      },
      "execution_count": 14,
      "outputs": []
    },
    {
      "cell_type": "code",
      "source": [
        "aluno"
      ],
      "metadata": {
        "colab": {
          "base_uri": "https://localhost:8080/",
          "height": 36
        },
        "id": "-JL7WZp61G3C",
        "outputId": "2d0acdfe-c1cc-4c4b-f3f5-02d5d686c971"
      },
      "execution_count": 15,
      "outputs": [
        {
          "output_type": "execute_result",
          "data": {
            "text/plain": [
              "'LENILDO'"
            ],
            "application/vnd.google.colaboratory.intrinsic+json": {
              "type": "string"
            }
          },
          "metadata": {},
          "execution_count": 15
        }
      ]
    },
    {
      "cell_type": "markdown",
      "source": [
        "#Criando vetores\n",
        "\n",
        "- estrutura de armazenamento de dados"
      ],
      "metadata": {
        "id": "wJI9d2HN1hPL"
      }
    },
    {
      "cell_type": "code",
      "source": [
        "alunos = ['LENILDO', 'SELMA',  'LUCIANA', 'SOFIA']"
      ],
      "metadata": {
        "id": "xQH3TPDI1XfS"
      },
      "execution_count": 16,
      "outputs": []
    },
    {
      "cell_type": "code",
      "source": [
        "alunos"
      ],
      "metadata": {
        "colab": {
          "base_uri": "https://localhost:8080/"
        },
        "id": "yMDtykOS1s9c",
        "outputId": "1623bf62-6629-499e-d169-056f995f2b01"
      },
      "execution_count": 17,
      "outputs": [
        {
          "output_type": "execute_result",
          "data": {
            "text/plain": [
              "['LENILDO', 'SELMA', 'LUCIANA', 'SOFIA']"
            ]
          },
          "metadata": {},
          "execution_count": 17
        }
      ]
    },
    {
      "cell_type": "code",
      "source": [
        "alunos[0]"
      ],
      "metadata": {
        "colab": {
          "base_uri": "https://localhost:8080/",
          "height": 36
        },
        "id": "jzLhQ3k72Cjb",
        "outputId": "5eb3b60e-0564-4df5-e546-539eb66fabe3"
      },
      "execution_count": 19,
      "outputs": [
        {
          "output_type": "execute_result",
          "data": {
            "text/plain": [
              "'LENILDO'"
            ],
            "application/vnd.google.colaboratory.intrinsic+json": {
              "type": "string"
            }
          },
          "metadata": {},
          "execution_count": 19
        }
      ]
    },
    {
      "cell_type": "code",
      "source": [
        "alunos[3]"
      ],
      "metadata": {
        "colab": {
          "base_uri": "https://localhost:8080/",
          "height": 36
        },
        "id": "lF0HIaKj2RQy",
        "outputId": "03605490-eac0-4126-a1a7-5c7567b43390"
      },
      "execution_count": 20,
      "outputs": [
        {
          "output_type": "execute_result",
          "data": {
            "text/plain": [
              "'SOFIA'"
            ],
            "application/vnd.google.colaboratory.intrinsic+json": {
              "type": "string"
            }
          },
          "metadata": {},
          "execution_count": 20
        }
      ]
    },
    {
      "cell_type": "code",
      "source": [
        "alunos[-1]"
      ],
      "metadata": {
        "colab": {
          "base_uri": "https://localhost:8080/",
          "height": 36
        },
        "id": "8ZXkpc6M2aIA",
        "outputId": "2debdd6c-ada7-4057-9f86-1a085fa48fde"
      },
      "execution_count": 27,
      "outputs": [
        {
          "output_type": "execute_result",
          "data": {
            "text/plain": [
              "'SOFIA'"
            ],
            "application/vnd.google.colaboratory.intrinsic+json": {
              "type": "string"
            }
          },
          "metadata": {},
          "execution_count": 27
        }
      ]
    },
    {
      "cell_type": "code",
      "source": [
        "len(alunos) #length --> len(VARIAVEL) me retorna o tamanho do vetor"
      ],
      "metadata": {
        "colab": {
          "base_uri": "https://localhost:8080/"
        },
        "id": "6BAU7prH2yRB",
        "outputId": "d4cf65d8-ff1d-4a5c-c01b-1f0b36c6b5fa"
      },
      "execution_count": 28,
      "outputs": [
        {
          "output_type": "execute_result",
          "data": {
            "text/plain": [
              "4"
            ]
          },
          "metadata": {},
          "execution_count": 28
        }
      ]
    }
  ]
}