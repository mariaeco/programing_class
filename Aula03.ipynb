{
 "cells": [
  {
   "cell_type": "markdown",
   "id": "11a44325",
   "metadata": {},
   "source": [
    "# LAÇOS DE REPETIÇÃO"
   ]
  },
  {
   "cell_type": "code",
   "execution_count": 15,
   "id": "a483d637",
   "metadata": {},
   "outputs": [
    {
     "name": "stdout",
     "output_type": "stream",
     "text": [
      "['prova_matematica', 'prova_ingles', 'prova_arte', 'prova_historia']\n"
     ]
    }
   ],
   "source": [
    "provas = [\"prova_matematica\", \"prova_ingles\", \"prova_arte\",\"prova_historia\"]\n",
    "print(provas)"
   ]
  },
  {
   "cell_type": "code",
   "execution_count": 16,
   "id": "ca862a0b-1ecd-4845-b8da-69d5ae9de4ae",
   "metadata": {},
   "outputs": [
    {
     "name": "stdout",
     "output_type": "stream",
     "text": [
      "Prova do dia 1: prova_matematica\n",
      "Prova do dia 2: prova_ingles\n",
      "Prova do dia 3: prova_arte\n",
      "Prova do dia 4: prova_historia\n"
     ]
    }
   ],
   "source": [
    "contador = 0\n",
    "for prova in provas:\n",
    "    contador += 1\n",
    "    print(f'Prova do dia {contador}:',prova)"
   ]
  },
  {
   "cell_type": "code",
   "execution_count": 17,
   "id": "f87b6325-e881-4fd9-ad74-883a6777aebb",
   "metadata": {},
   "outputs": [
    {
     "name": "stdout",
     "output_type": "stream",
     "text": [
      "Prova do dia 1: prova_matematica\n",
      "Prova do dia 2: prova_arte\n",
      "Prova do dia 3: prova_historia\n"
     ]
    }
   ],
   "source": [
    "contador = 0\n",
    "for prova in provas:\n",
    "    if prova != 'prova_ingles': #!= diferente\n",
    "        contador += 1\n",
    "        print(f'Prova do dia {contador}:',prova)"
   ]
  },
  {
   "cell_type": "code",
   "execution_count": 18,
   "id": "319b055c-13db-4b3e-a1a3-f99afa479964",
   "metadata": {},
   "outputs": [
    {
     "data": {
      "text/plain": [
       "4"
      ]
     },
     "execution_count": 18,
     "metadata": {},
     "output_type": "execute_result"
    }
   ],
   "source": [
    "len(provas)"
   ]
  },
  {
   "cell_type": "code",
   "execution_count": 19,
   "id": "a2d2b4f2-21fd-43f0-bf1b-9a0f72a6605e",
   "metadata": {},
   "outputs": [
    {
     "name": "stdout",
     "output_type": "stream",
     "text": [
      "Prova nº 1: prova_matematica\n",
      "Prova nº 2: prova_ingles\n",
      "Prova nº 3: prova_arte\n",
      "Prova nº 4: prova_historia\n"
     ]
    }
   ],
   "source": [
    "for loc in range(len(provas)): #range = extensão/limite len = tamanho\n",
    "    print(f'Prova nº {loc+1}:', provas[loc])\n"
   ]
  },
  {
   "cell_type": "code",
   "execution_count": 20,
   "id": "8fe1ec90-f932-4175-872c-2b763459a473",
   "metadata": {},
   "outputs": [
    {
     "name": "stdout",
     "output_type": "stream",
     "text": [
      "Prova nº 2: prova_ingles\n",
      "Prova nº 3: prova_arte\n"
     ]
    }
   ],
   "source": [
    "for loc in range(1,3): #imprimindo de x a y\n",
    "    print(f'Prova nº {loc+1}:', provas[loc])"
   ]
  },
  {
   "cell_type": "markdown",
   "id": "6beb2182",
   "metadata": {},
   "source": [
    "## EXERCICIO 2: FOR\n",
    "\n",
    "Escrever um algoritmo que calcule a soma dos números de 1 a 15"
   ]
  },
  {
   "cell_type": "code",
   "execution_count": null,
   "id": "dae18d73",
   "metadata": {},
   "outputs": [
    {
     "name": "stdout",
     "output_type": "stream",
     "text": [
      "Valor inicial 0\n",
      "0 + 1 :\n",
      "resultado: 1\n",
      "1 + 2 :\n",
      "resultado: 3\n",
      "3 + 3 :\n",
      "resultado: 6\n",
      "6 + 4 :\n",
      "resultado: 10\n",
      "10 + 5 :\n",
      "resultado: 15\n",
      "15 + 6 :\n",
      "resultado: 21\n",
      "21 + 7 :\n",
      "resultado: 28\n",
      "28 + 8 :\n",
      "resultado: 36\n",
      "36 + 9 :\n",
      "resultado: 45\n",
      "45 + 10 :\n",
      "resultado: 55\n",
      "55 + 11 :\n",
      "resultado: 66\n",
      "66 + 12 :\n",
      "resultado: 78\n",
      "78 + 13 :\n",
      "resultado: 91\n",
      "91 + 14 :\n",
      "resultado: 105\n",
      "105 + 15 :\n",
      "resultado: 120\n"
     ]
    }
   ],
   "source": [
    "numeros = [1, 2, 3, 4, 5, 6, 7, 8, 9, 10, 11, 12, 13, 14, 15]\n",
    "soma = 0\n",
    "print(\"Valor inicial\",soma)\n",
    "for n in numeros:\n",
    "    print(soma,'+', n,':')\n",
    "    soma += n\n",
    "    print(\"resultado:\",soma)"
   ]
  },
  {
   "cell_type": "code",
   "execution_count": null,
   "id": "58eb1015",
   "metadata": {},
   "outputs": [
    {
     "name": "stdout",
     "output_type": "stream",
     "text": [
      "Valor inicial 0\n",
      "0 + 1 :\n",
      "resultado: 1\n",
      "1 + 2 :\n",
      "resultado: 3\n",
      "3 + 3 :\n",
      "resultado: 6\n",
      "6 + 4 :\n",
      "resultado: 10\n",
      "10 + 5 :\n",
      "resultado: 15\n",
      "15 + 6 :\n",
      "resultado: 21\n",
      "21 + 7 :\n",
      "resultado: 28\n",
      "28 + 8 :\n",
      "resultado: 36\n",
      "36 + 9 :\n",
      "resultado: 45\n",
      "45 + 10 :\n",
      "resultado: 55\n",
      "55 + 11 :\n",
      "resultado: 66\n",
      "66 + 12 :\n",
      "resultado: 78\n",
      "78 + 13 :\n",
      "resultado: 91\n",
      "91 + 14 :\n",
      "resultado: 105\n",
      "105 + 15 :\n",
      "resultado: 120\n"
     ]
    }
   ],
   "source": [
    "#numeros = [1, 2, 3, 4, 5, 6, 7, 8, 9, 10, 11, 12, 13, 14, 15]\n",
    "numero = 15\n",
    "soma = 0\n",
    "print(\"Valor inicial\",soma)\n",
    "for n in range(1, numero+1): #ninicial até nfinal-1 (então tenho que somar+1)\n",
    "    print(soma,'+', n,':')\n",
    "    soma += n\n",
    "    print(\"resultado:\",soma)"
   ]
  },
  {
   "cell_type": "markdown",
   "id": "5d6562fc",
   "metadata": {},
   "source": [
    "# WHILE = ENQUANTO"
   ]
  },
  {
   "cell_type": "code",
   "execution_count": 33,
   "id": "e208a6c5",
   "metadata": {},
   "outputs": [
    {
     "name": "stdout",
     "output_type": "stream",
     "text": [
      "1\n",
      "2 resultado =  1\n",
      "2\n",
      "3 resultado =  3\n",
      "3\n",
      "4 resultado =  6\n",
      "4\n",
      "5 resultado =  10\n",
      "5\n",
      "6 resultado =  15\n",
      "6\n",
      "7 resultado =  21\n",
      "7\n",
      "8 resultado =  28\n",
      "8\n",
      "9 resultado =  36\n",
      "9\n",
      "10 resultado =  45\n",
      "10\n",
      "11 resultado =  55\n",
      "11\n",
      "12 resultado =  66\n",
      "12\n",
      "13 resultado =  78\n",
      "13\n",
      "14 resultado =  91\n",
      "14\n",
      "15 resultado =  105\n",
      "15\n",
      "16 resultado =  120\n"
     ]
    }
   ],
   "source": [
    "count = 1\n",
    "soma = 0\n",
    "iter = 15\n",
    "\n",
    "while count <= 15: #CRITERIO DE PARADA\n",
    "    print(count)\n",
    "    soma += count\n",
    "    #soma = soma+count\n",
    "    count += 1\n",
    "    print(count,\"resultado = \",soma)\n",
    "    \n"
   ]
  },
  {
   "cell_type": "markdown",
   "id": "2fd424ec",
   "metadata": {},
   "source": [
    "## EXERCICIO 3: FOR\n",
    "\n",
    "Escrever um algoritmo que calcule a soma dos números de 10 a 50"
   ]
  },
  {
   "cell_type": "code",
   "execution_count": 41,
   "id": "bad4b9ac",
   "metadata": {},
   "outputs": [
    {
     "name": "stdout",
     "output_type": "stream",
     "text": [
      "10\n",
      "resultado =  10\n",
      "11\n",
      "resultado =  21\n",
      "12\n",
      "resultado =  33\n",
      "13\n",
      "resultado =  46\n",
      "14\n",
      "resultado =  60\n",
      "15\n",
      "resultado =  75\n",
      "16\n",
      "resultado =  91\n",
      "17\n",
      "resultado =  108\n",
      "18\n",
      "resultado =  126\n",
      "19\n",
      "resultado =  145\n",
      "20\n",
      "resultado =  165\n",
      "21\n",
      "resultado =  186\n",
      "22\n",
      "resultado =  208\n",
      "23\n",
      "resultado =  231\n",
      "24\n",
      "resultado =  255\n",
      "25\n",
      "resultado =  280\n",
      "26\n",
      "resultado =  306\n",
      "27\n",
      "resultado =  333\n",
      "28\n",
      "resultado =  361\n",
      "29\n",
      "resultado =  390\n",
      "30\n",
      "resultado =  420\n",
      "31\n",
      "resultado =  451\n",
      "32\n",
      "resultado =  483\n",
      "33\n",
      "resultado =  516\n",
      "34\n",
      "resultado =  550\n",
      "35\n",
      "resultado =  585\n",
      "36\n",
      "resultado =  621\n",
      "37\n",
      "resultado =  658\n",
      "38\n",
      "resultado =  696\n",
      "39\n",
      "resultado =  735\n",
      "40\n",
      "resultado =  775\n",
      "41\n",
      "resultado =  816\n",
      "42\n",
      "resultado =  858\n",
      "43\n",
      "resultado =  901\n",
      "44\n",
      "resultado =  945\n",
      "45\n",
      "resultado =  990\n",
      "46\n",
      "resultado =  1036\n",
      "47\n",
      "resultado =  1083\n",
      "48\n",
      "resultado =  1131\n",
      "49\n",
      "resultado =  1180\n",
      "50\n",
      "resultado =  1230\n"
     ]
    }
   ],
   "source": [
    "count = 10\n",
    "soma = 0\n",
    "iter = 50\n",
    "\n",
    "while count <= iter: #CRITERIO DE PARADA\n",
    "    print(count)\n",
    "    soma += count\n",
    "    #soma = soma+count\n",
    "    count += 1\n",
    "    print(\"resultado = \",soma)\n",
    "    "
   ]
  }
 ],
 "metadata": {
  "kernelspec": {
   "display_name": "3.10.16",
   "language": "python",
   "name": "python3"
  },
  "language_info": {
   "codemirror_mode": {
    "name": "ipython",
    "version": 3
   },
   "file_extension": ".py",
   "mimetype": "text/x-python",
   "name": "python",
   "nbconvert_exporter": "python",
   "pygments_lexer": "ipython3",
   "version": "3.10.16"
  }
 },
 "nbformat": 4,
 "nbformat_minor": 5
}
