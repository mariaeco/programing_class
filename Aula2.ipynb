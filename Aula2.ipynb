{
 "cells": [
  {
   "cell_type": "markdown",
   "id": "cb6c31d9-4bf9-45c5-aecb-c11bb81d3a09",
   "metadata": {},
   "source": [
    "#AULA 01"
   ]
  },
  {
   "cell_type": "code",
   "execution_count": 1,
   "id": "52536e1d-6291-4de4-9a96-e7ef8bc56181",
   "metadata": {},
   "outputs": [],
   "source": [
    "lista = ['Ola', 'Eu', 'Quero', 'Pizza'] #vetor "
   ]
  },
  {
   "cell_type": "markdown",
   "id": "929a9020-992e-41cf-a0f5-dce707fcd2b4",
   "metadata": {},
   "source": [
    "## ESTRUTURAS DE DECISÃO"
   ]
  },
  {
   "cell_type": "markdown",
   "id": "833241e3",
   "metadata": {},
   "source": [
    "### IF ELSE:"
   ]
  },
  {
   "cell_type": "code",
   "execution_count": 2,
   "id": "83536eea-21c0-4e86-80de-738cd3043e62",
   "metadata": {},
   "outputs": [
    {
     "name": "stdout",
     "output_type": "stream",
     "text": [
      "Eca\n"
     ]
    }
   ],
   "source": [
    "palavra = 'Pizza' #string\n",
    "\n",
    "\n",
    "if (palavra == 'Bolo'):\n",
    "    print('Delícia')\n",
    "else:  #caso não seja\n",
    "    print('Eca')\n",
    "\n"
   ]
  },
  {
   "cell_type": "code",
   "execution_count": 3,
   "id": "39efaae4-6bc1-44ca-a7f3-e4b57cca4e6e",
   "metadata": {},
   "outputs": [
    {
     "name": "stdout",
     "output_type": "stream",
     "text": [
      "aprovado\n"
     ]
    }
   ],
   "source": [
    "nota = 10\n",
    "\n",
    "if (nota >= 6):\n",
    "    print('aprovado')\n",
    "else:\n",
    "    print('reprovado')\n",
    "\n"
   ]
  },
  {
   "cell_type": "code",
   "execution_count": 4,
   "id": "542783f8-4864-4ee7-8d63-add387747ef0",
   "metadata": {},
   "outputs": [],
   "source": [
    "lista = ['Ola', 'Eu', 'Quero', 'Pizza'] #vetor lista\n",
    "frase = ['Ola eu quero pizza'] #vetor"
   ]
  },
  {
   "cell_type": "code",
   "execution_count": 5,
   "id": "88963b55-6ec2-4fe4-8684-2c425ba63f48",
   "metadata": {},
   "outputs": [
    {
     "data": {
      "text/plain": [
       "4"
      ]
     },
     "execution_count": 5,
     "metadata": {},
     "output_type": "execute_result"
    }
   ],
   "source": [
    "len(lista) #len = tamanho"
   ]
  },
  {
   "cell_type": "code",
   "execution_count": 6,
   "id": "84acda0e-a9f7-4899-975d-62ff27fa645f",
   "metadata": {},
   "outputs": [
    {
     "data": {
      "text/plain": [
       "1"
      ]
     },
     "execution_count": 6,
     "metadata": {},
     "output_type": "execute_result"
    }
   ],
   "source": [
    "len(frase)"
   ]
  },
  {
   "cell_type": "code",
   "execution_count": 7,
   "id": "570e64be-4991-44d7-8bec-62d401f05111",
   "metadata": {},
   "outputs": [
    {
     "data": {
      "text/plain": [
       "'Pizza'"
      ]
     },
     "execution_count": 7,
     "metadata": {},
     "output_type": "execute_result"
    }
   ],
   "source": [
    "lista[3]"
   ]
  },
  {
   "cell_type": "code",
   "execution_count": 8,
   "id": "f757186f-0b86-465b-afb2-51111dfd3a65",
   "metadata": {},
   "outputs": [
    {
     "data": {
      "text/plain": [
       "'Ola eu quero pizza'"
      ]
     },
     "execution_count": 8,
     "metadata": {},
     "output_type": "execute_result"
    }
   ],
   "source": [
    "frase[0]"
   ]
  },
  {
   "cell_type": "code",
   "execution_count": 9,
   "id": "a591cc34-c10f-4d29-b5ce-1ca5c7864acb",
   "metadata": {},
   "outputs": [
    {
     "name": "stdout",
     "output_type": "stream",
     "text": [
      "A palavra não está na lista\n"
     ]
    }
   ],
   "source": [
    "if 'pizza' in lista:\n",
    "    print(\"tem pizza\")\n",
    "else:\n",
    "    print(\"A palavra não está na lista\")"
   ]
  },
  {
   "cell_type": "code",
   "execution_count": 10,
   "id": "2c76fefc-b7ed-448e-8f1f-47eb685210bd",
   "metadata": {},
   "outputs": [
    {
     "name": "stdout",
     "output_type": "stream",
     "text": [
      "tem pizza\n"
     ]
    }
   ],
   "source": [
    "if 'Pizza' in lista:\n",
    "    print(\"tem pizza\")\n",
    "else:\n",
    "    print(\"A palavra não está na lista\")"
   ]
  },
  {
   "cell_type": "code",
   "execution_count": 11,
   "id": "89c5c22b-c542-4f0a-aea2-c86d9df0939a",
   "metadata": {},
   "outputs": [
    {
     "name": "stdout",
     "output_type": "stream",
     "text": [
      "A palavra não está na lista\n"
     ]
    }
   ],
   "source": [
    "frase = ['Ola eu quero pizza'] #vetor\n",
    "if 'pizza' in frase:\n",
    "    print(\"tem pizza\")\n",
    "else:\n",
    "    print(\"A palavra não está na lista\")"
   ]
  },
  {
   "cell_type": "code",
   "execution_count": 12,
   "id": "27760d11-816a-47fb-9799-b51f44db20e5",
   "metadata": {},
   "outputs": [
    {
     "data": {
      "text/plain": [
       "['eu', 'achei', 'esse', 'produto', 'horrivel,', 'quero', 'a', 'devolução']"
      ]
     },
     "execution_count": 12,
     "metadata": {},
     "output_type": "execute_result"
    }
   ],
   "source": [
    "frase = 'eu achei esse produto horrivel, quero a devolução'\n",
    "frase_separada = frase.split()\n",
    "frase_separada"
   ]
  },
  {
   "cell_type": "code",
   "execution_count": 13,
   "id": "8c1110ae-d461-4fd6-b956-32dea7dc3e69",
   "metadata": {},
   "outputs": [
    {
     "data": {
      "text/plain": [
       "['Ola', 'eu', 'quero', 'pizza']"
      ]
     },
     "execution_count": 13,
     "metadata": {},
     "output_type": "execute_result"
    }
   ],
   "source": [
    "frase = 'Ola-eu-quero-pizza'\n",
    "frase.split('-')"
   ]
  },
  {
   "cell_type": "code",
   "execution_count": 14,
   "id": "b09ae4d7-db32-4a4c-a270-0eb3affd9cd3",
   "metadata": {},
   "outputs": [
    {
     "name": "stdout",
     "output_type": "stream",
     "text": [
      "1\n"
     ]
    }
   ],
   "source": [
    "comentario1 = 'eu achei esse produto horrivel, quero a devolução' # frase sem lista\n",
    "comentario2 = ['eu achei esse produto horrivel, quero a devolução'] #frase dentro de uma listas\n",
    "comentario3 = ['eu', 'achei', 'esse', 'produto', 'horrivel', 'quero', 'a', 'devolução'] #palavras em lista\n",
    "\n",
    "\n",
    "contagem = 0\n",
    "if 'horrivel' in comentario1:\n",
    "    contagem += 1\n",
    "print(contagem)\n",
    "    "
   ]
  },
  {
   "cell_type": "code",
   "execution_count": 15,
   "id": "cbb600c1-8450-4e55-84de-bc7f785c6a09",
   "metadata": {},
   "outputs": [
    {
     "name": "stdout",
     "output_type": "stream",
     "text": [
      "0\n"
     ]
    }
   ],
   "source": [
    "contagem = 0\n",
    "if 'horrivel' in comentario2:\n",
    "    contagem += 1\n",
    "print(contagem)"
   ]
  },
  {
   "cell_type": "code",
   "execution_count": 16,
   "id": "59f3e29b-f77e-4b8c-adad-c9976da6adc9",
   "metadata": {},
   "outputs": [
    {
     "name": "stdout",
     "output_type": "stream",
     "text": [
      "1\n"
     ]
    }
   ],
   "source": [
    "contagem = 0\n",
    "if 'horrivel' in comentario3:\n",
    "    contagem += 1\n",
    "print(contagem)"
   ]
  },
  {
   "cell_type": "code",
   "execution_count": 17,
   "id": "7bbf0027-6d7e-4af7-a3a2-68942bf7d4ff",
   "metadata": {},
   "outputs": [
    {
     "data": {
      "text/plain": [
       "'eu-achei-esse-produto-horrivel-quero-a-devolução'"
      ]
     },
     "execution_count": 17,
     "metadata": {},
     "output_type": "execute_result"
    }
   ],
   "source": [
    "comentario3 = ['eu', 'achei', 'esse', 'produto', 'horrivel', 'quero', 'a', 'devolução'] #palavras em lista\n",
    "'-'.join(comentario3)"
   ]
  },
  {
   "cell_type": "code",
   "execution_count": 18,
   "id": "809cd0b9",
   "metadata": {},
   "outputs": [
    {
     "data": {
      "text/plain": [
       "'eu achei esse produto horrivel quero a devolução'"
      ]
     },
     "execution_count": 18,
     "metadata": {},
     "output_type": "execute_result"
    }
   ],
   "source": [
    "comentario3 = ['eu', 'achei', 'esse', 'produto', 'horrivel', 'quero', 'a', 'devolução'] #palavras em lista\n",
    "' '.join(comentario3)"
   ]
  },
  {
   "cell_type": "markdown",
   "id": "49d325cf",
   "metadata": {},
   "source": [
    "### IF ELSE ELIF\n",
    "\n",
    "Quando trabalhamos com mais de duas condições\n"
   ]
  },
  {
   "cell_type": "code",
   "execution_count": null,
   "id": "7ddc78ea",
   "metadata": {},
   "outputs": [
    {
     "name": "stdout",
     "output_type": "stream",
     "text": [
      "NOTA ERRADA!\n"
     ]
    }
   ],
   "source": [
    "#variável chamada nota\n",
    "nota = 10000 #podemos mudar o valor da nota para testar outros casos\n",
    "\n",
    "if nota > 10:\n",
    "    print('NOTA ERRADA!')\n",
    "elif nota >= 6: #verifica se a nota é maior ou igual a 6\n",
    "    print('Aprovado')\n",
    "elif nota >= 4: \n",
    "    print('Final')\n",
    "elif nota < 0:\n",
    "    print('Nota inválida')\n",
    "else: #caso não seja nenhum dos casos acima: Reprovado\n",
    "    print('Reprovado')\n"
   ]
  },
  {
   "cell_type": "code",
   "execution_count": null,
   "id": "95c98b2d",
   "metadata": {},
   "outputs": [
    {
     "name": "stdout",
     "output_type": "stream",
     "text": [
      "Salário muito alto\n"
     ]
    }
   ],
   "source": [
    "# EXERCÍCIO\n",
    "# SALÁRIOS\n",
    "# Criar uma variável chamada salario\n",
    "# Condições:\n",
    "# - Se o salário for maior que 10000, imprimir \"Salário muito alto\"\n",
    "# - Se o salário for maior ou igual a 5000, imprimir \"Salário alto\"\n",
    "# - Se o salário for maior ou igual a 3000, imprimir \"Salário médio\" \n",
    "# - Se o salário for maior ou igual a 1500, imprimir \"Salário mínimo\"   \n",
    "\n",
    "salario = 12000  #podemos mudar o valor do salário para testar outros casos\n",
    "if salario >= 10000:\n",
    "    print(\"Salário muito alto\")\n",
    "elif salario >= 5000:\n",
    "    print(\"Salário alto\")\n",
    "elif salario >= 3000:\n",
    "    print(\"Salário médio\")  \n",
    "elif salario >= 1500:\n",
    "    print(\"Salário mínimo\")\n",
    "elif salario < 0:\n",
    "    print(\"Salário inválido\")\n",
    "else:\n",
    "    print(\"Salário abaixo do mínimo\")\n"
   ]
  }
 ],
 "metadata": {
  "kernelspec": {
   "display_name": "venv",
   "language": "python",
   "name": "python3"
  },
  "language_info": {
   "codemirror_mode": {
    "name": "ipython",
    "version": 3
   },
   "file_extension": ".py",
   "mimetype": "text/x-python",
   "name": "python",
   "nbconvert_exporter": "python",
   "pygments_lexer": "ipython3",
   "version": "3.10.11"
  }
 },
 "nbformat": 4,
 "nbformat_minor": 5
}
