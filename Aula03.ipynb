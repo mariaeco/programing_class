{
 "cells": [
  {
   "cell_type": "markdown",
   "id": "11a44325",
   "metadata": {},
   "source": [
    "# LAÇOS DE REPETIÇÃO"
   ]
  },
  {
   "cell_type": "code",
   "execution_count": 4,
   "id": "a483d637",
   "metadata": {},
   "outputs": [
    {
     "name": "stdout",
     "output_type": "stream",
     "text": [
      "['prova_matematica', 'prova_ingles', 'prova_arte', 'prova_historia']\n"
     ]
    }
   ],
   "source": [
    "provas = [\"prova_matematica\", \"prova_ingles\", \"prova_arte\",\"prova_historia\"]\n",
    "print(provas)"
   ]
  },
  {
   "cell_type": "code",
   "execution_count": 6,
   "id": "ca862a0b-1ecd-4845-b8da-69d5ae9de4ae",
   "metadata": {},
   "outputs": [
    {
     "name": "stdout",
     "output_type": "stream",
     "text": [
      "Prova do dia 1: prova_matematica\n",
      "Prova do dia 2: prova_ingles\n",
      "Prova do dia 3: prova_arte\n",
      "Prova do dia 4: prova_historia\n"
     ]
    }
   ],
   "source": [
    "contador = 0\n",
    "for prova in provas:\n",
    "    contador += 1\n",
    "    print(f'Prova do dia {contador}:',prova)"
   ]
  },
  {
   "cell_type": "code",
   "execution_count": 11,
   "id": "f87b6325-e881-4fd9-ad74-883a6777aebb",
   "metadata": {},
   "outputs": [
    {
     "name": "stdout",
     "output_type": "stream",
     "text": [
      "Prova do dia 1: prova_matematica\n",
      "Prova do dia 2: prova_arte\n",
      "Prova do dia 3: prova_historia\n"
     ]
    }
   ],
   "source": [
    "contador = 0\n",
    "for prova in provas:\n",
    "    if prova != 'prova_ingles': #!= diferente\n",
    "        contador += 1\n",
    "        print(f'Prova do dia {contador}:',prova)"
   ]
  },
  {
   "cell_type": "code",
   "execution_count": 13,
   "id": "319b055c-13db-4b3e-a1a3-f99afa479964",
   "metadata": {},
   "outputs": [
    {
     "data": {
      "text/plain": [
       "4"
      ]
     },
     "execution_count": 13,
     "metadata": {},
     "output_type": "execute_result"
    }
   ],
   "source": [
    "len(provas)"
   ]
  },
  {
   "cell_type": "code",
   "execution_count": 18,
   "id": "a2d2b4f2-21fd-43f0-bf1b-9a0f72a6605e",
   "metadata": {},
   "outputs": [
    {
     "name": "stdout",
     "output_type": "stream",
     "text": [
      "Prova nº 1: prova_matematica\n",
      "Prova nº 2: prova_ingles\n",
      "Prova nº 3: prova_arte\n",
      "Prova nº 4: prova_historia\n"
     ]
    }
   ],
   "source": [
    "for loc in range(len(provas)): #range = extensão/limite len = tamanho\n",
    "    print(f'Prova nº {loc+1}:', provas[loc])\n"
   ]
  },
  {
   "cell_type": "code",
   "execution_count": 24,
   "id": "8fe1ec90-f932-4175-872c-2b763459a473",
   "metadata": {},
   "outputs": [
    {
     "name": "stdout",
     "output_type": "stream",
     "text": [
      "Prova nº 2: prova_ingles\n",
      "Prova nº 3: prova_arte\n"
     ]
    }
   ],
   "source": [
    "for loc in range(1,3): #imprimindo de x a y\n",
    "    print(f'Prova nº {loc+1}:', provas[loc])"
   ]
  }
 ],
 "metadata": {
  "kernelspec": {
   "display_name": "Python 3 (ipykernel)",
   "language": "python",
   "name": "python3"
  },
  "language_info": {
   "codemirror_mode": {
    "name": "ipython",
    "version": 3
   },
   "file_extension": ".py",
   "mimetype": "text/x-python",
   "name": "python",
   "nbconvert_exporter": "python",
   "pygments_lexer": "ipython3",
   "version": "3.10.16"
  }
 },
 "nbformat": 4,
 "nbformat_minor": 5
}
